{
 "cells": [
  {
   "cell_type": "markdown",
   "metadata": {},
   "source": [
    "# 1. 데이터 수집 및 불러오기"
   ]
  },
  {
   "cell_type": "markdown",
   "metadata": {},
   "source": [
    "# 2. 포스터 데이터 수집"
   ]
  },
  {
   "cell_type": "code",
   "execution_count": 2,
   "metadata": {},
   "outputs": [
    {
     "data": {
      "text/html": [
       "<div>\n",
       "<style scoped>\n",
       "    .dataframe tbody tr th:only-of-type {\n",
       "        vertical-align: middle;\n",
       "    }\n",
       "\n",
       "    .dataframe tbody tr th {\n",
       "        vertical-align: top;\n",
       "    }\n",
       "\n",
       "    .dataframe thead th {\n",
       "        text-align: right;\n",
       "    }\n",
       "</style>\n",
       "<table border=\"1\" class=\"dataframe\">\n",
       "  <thead>\n",
       "    <tr style=\"text-align: right;\">\n",
       "      <th></th>\n",
       "      <th>이름</th>\n",
       "      <th>적합사이즈</th>\n",
       "      <th>나이</th>\n",
       "      <th>출장수</th>\n",
       "      <th>키</th>\n",
       "      <th>몸무게</th>\n",
       "    </tr>\n",
       "  </thead>\n",
       "  <tbody>\n",
       "    <tr>\n",
       "      <th>0</th>\n",
       "      <td>조현우</td>\n",
       "      <td>275</td>\n",
       "      <td>27</td>\n",
       "      <td>12</td>\n",
       "      <td>189</td>\n",
       "      <td>75</td>\n",
       "    </tr>\n",
       "    <tr>\n",
       "      <th>1</th>\n",
       "      <td>김영권</td>\n",
       "      <td>285</td>\n",
       "      <td>29</td>\n",
       "      <td>69</td>\n",
       "      <td>186</td>\n",
       "      <td>81</td>\n",
       "    </tr>\n",
       "    <tr>\n",
       "      <th>2</th>\n",
       "      <td>김민재</td>\n",
       "      <td>290</td>\n",
       "      <td>22</td>\n",
       "      <td>19</td>\n",
       "      <td>190</td>\n",
       "      <td>88</td>\n",
       "    </tr>\n",
       "    <tr>\n",
       "      <th>3</th>\n",
       "      <td>이청용</td>\n",
       "      <td>265</td>\n",
       "      <td>30</td>\n",
       "      <td>89</td>\n",
       "      <td>180</td>\n",
       "      <td>70</td>\n",
       "    </tr>\n",
       "    <tr>\n",
       "      <th>4</th>\n",
       "      <td>손흥민</td>\n",
       "      <td>260</td>\n",
       "      <td>26</td>\n",
       "      <td>79</td>\n",
       "      <td>183</td>\n",
       "      <td>77</td>\n",
       "    </tr>\n",
       "    <tr>\n",
       "      <th>5</th>\n",
       "      <td>이재성</td>\n",
       "      <td>275</td>\n",
       "      <td>26</td>\n",
       "      <td>43</td>\n",
       "      <td>180</td>\n",
       "      <td>70</td>\n",
       "    </tr>\n",
       "    <tr>\n",
       "      <th>6</th>\n",
       "      <td>백승호</td>\n",
       "      <td>280</td>\n",
       "      <td>22</td>\n",
       "      <td>0</td>\n",
       "      <td>180</td>\n",
       "      <td>68</td>\n",
       "    </tr>\n",
       "    <tr>\n",
       "      <th>7</th>\n",
       "      <td>이강인</td>\n",
       "      <td>270</td>\n",
       "      <td>18</td>\n",
       "      <td>0</td>\n",
       "      <td>173</td>\n",
       "      <td>63</td>\n",
       "    </tr>\n",
       "    <tr>\n",
       "      <th>8</th>\n",
       "      <td>이승우</td>\n",
       "      <td>260</td>\n",
       "      <td>21</td>\n",
       "      <td>10</td>\n",
       "      <td>170</td>\n",
       "      <td>63</td>\n",
       "    </tr>\n",
       "    <tr>\n",
       "      <th>9</th>\n",
       "      <td>황의조</td>\n",
       "      <td>275</td>\n",
       "      <td>26</td>\n",
       "      <td>25</td>\n",
       "      <td>184</td>\n",
       "      <td>73</td>\n",
       "    </tr>\n",
       "  </tbody>\n",
       "</table>\n",
       "</div>"
      ],
      "text/plain": [
       "    이름  적합사이즈  나이  출장수    키  몸무게\n",
       "0  조현우    275  27   12  189   75\n",
       "1  김영권    285  29   69  186   81\n",
       "2  김민재    290  22   19  190   88\n",
       "3  이청용    265  30   89  180   70\n",
       "4  손흥민    260  26   79  183   77\n",
       "5  이재성    275  26   43  180   70\n",
       "6  백승호    280  22    0  180   68\n",
       "7  이강인    270  18    0  173   63\n",
       "8  이승우    260  21   10  170   63\n",
       "9  황의조    275  26   25  184   73"
      ]
     },
     "execution_count": 2,
     "metadata": {},
     "output_type": "execute_result"
    }
   ],
   "source": [
    "#원본 데이터 csv 파일 불러오기\n",
    "import pandas as pd\n",
    "df = pd.read_csv('test.csv')\n",
    "df.head()"
   ]
  },
  {
   "cell_type": "markdown",
   "metadata": {},
   "source": [
    "## 0) 포스터 이름 불러오기"
   ]
  },
  {
   "cell_type": "code",
   "execution_count": 82,
   "metadata": {
    "scrolled": true
   },
   "outputs": [
    {
     "name": "stdout",
     "output_type": "stream",
     "text": [
      "poster_list: ['19820019.jpg', '20030371.jpg', '20030410.jpg', '20030433.jpg', '20040481.jpg', '20040483.jpg', '20040487.jpg', '20040488.jpg', '20040490.jpg', '20040491.jpg', '20040525.jpg', '20040554.jpg', '20040555.jpg', '20040567.jpg', '20040568.jpg', '20040571.jpg', '20040573.jpg', '20040576.jpg', '20040580.jpg', '20040583.jpg', '20040585.jpg', '20040593.jpg', '20040595.jpg', '20040596.jpg', '20040597.jpg', '20040598.jpg', '20040612.jpg', '20040613.jpg', '20040617.jpg', '20040619.jpg', '20040624.jpg', '20040628.jpg', '20040631.jpg', '20040640.jpg', '20040641.jpg', '20040649.jpg', '20040651.jpg', '20040655.jpg', '20040657.jpg', '20040659.jpg', '20040671.jpg', '20040673.jpg', '20040682.jpg', '20040695.jpg', '20040700.jpg', '20040706.jpg', '20040717.jpg', '20040721.jpg', '20040743.jpg', '20040744.jpg', '20040745.jpg', '20040755.jpg', '20040756.jpg', '20040774.jpg', '20040776.jpg', '20040778.jpg', '20040785.jpg', '20040786.jpg', '20050007.jpg', '20050008.jpg', '20050010.jpg', '20050011.jpg', '20050013.jpg', '20050017.jpg', '20050045.jpg', '20050046.jpg', '20050049.jpg', '20050064.jpg', '20050076.jpg', '20050077.jpg', '20050078.jpg', '20050083.jpg', '20050085.jpg', '20050110.jpg', '20050112.jpg', '20050113.jpg', '20050135.jpg', '20050137.jpg', '20050140.jpg', '20050141.jpg', '20050144.jpg', '20050148.jpg', '20050178.jpg', '20050180.jpg', '20050216.jpg', '20050219.jpg', '20050225.jpg', '20050232.jpg', '20050233.jpg', '20050239.jpg', '20050256.jpg', '20050261.jpg', '20050271.jpg', '20050280.jpg', '20050292.jpg', '20050310.jpg', '20050324.jpg', '20050326.jpg', '20050330.jpg']\n"
     ]
    }
   ],
   "source": [
    "import os\n",
    "\n",
    "path = \"image/\"\n",
    "poster_list = os.listdir(path)\n",
    "\n",
    "print (\"poster_list: {}\".format(poster_list))"
   ]
  },
  {
   "cell_type": "markdown",
   "metadata": {},
   "source": [
    "## 1) 크기 맞추기"
   ]
  },
  {
   "cell_type": "code",
   "execution_count": null,
   "metadata": {},
   "outputs": [],
   "source": [
    "#861*600으로 맞춰져 있음\n",
    "from PIL import Image\n",
    "\n",
    "#image = Image.open(path+'/1.jpg')\n",
    "#resize_image = image.resize((512,512))\n",
    "#resize_image.save('./2.jpg')"
   ]
  },
  {
   "cell_type": "markdown",
   "metadata": {},
   "source": [
    "## 2) 얼굴 추출하기"
   ]
  },
  {
   "cell_type": "code",
   "execution_count": 1,
   "metadata": {},
   "outputs": [],
   "source": [
    "import cv2\n",
    "import numpy as np"
   ]
  },
  {
   "cell_type": "code",
   "execution_count": 3,
   "metadata": {},
   "outputs": [
    {
     "data": {
      "text/html": [
       "<div>\n",
       "<style scoped>\n",
       "    .dataframe tbody tr th:only-of-type {\n",
       "        vertical-align: middle;\n",
       "    }\n",
       "\n",
       "    .dataframe tbody tr th {\n",
       "        vertical-align: top;\n",
       "    }\n",
       "\n",
       "    .dataframe thead th {\n",
       "        text-align: right;\n",
       "    }\n",
       "</style>\n",
       "<table border=\"1\" class=\"dataframe\">\n",
       "  <thead>\n",
       "    <tr style=\"text-align: right;\">\n",
       "      <th></th>\n",
       "      <th>이름</th>\n",
       "      <th>적합사이즈</th>\n",
       "      <th>나이</th>\n",
       "      <th>출장수</th>\n",
       "      <th>키</th>\n",
       "      <th>몸무게</th>\n",
       "      <th>포스터_사람 수</th>\n",
       "      <th>포스터_사람 크기</th>\n",
       "    </tr>\n",
       "  </thead>\n",
       "  <tbody>\n",
       "    <tr>\n",
       "      <th>0</th>\n",
       "      <td>조현우</td>\n",
       "      <td>275</td>\n",
       "      <td>27</td>\n",
       "      <td>12</td>\n",
       "      <td>189</td>\n",
       "      <td>75</td>\n",
       "      <td>0</td>\n",
       "      <td>0</td>\n",
       "    </tr>\n",
       "    <tr>\n",
       "      <th>1</th>\n",
       "      <td>김영권</td>\n",
       "      <td>285</td>\n",
       "      <td>29</td>\n",
       "      <td>69</td>\n",
       "      <td>186</td>\n",
       "      <td>81</td>\n",
       "      <td>0</td>\n",
       "      <td>0</td>\n",
       "    </tr>\n",
       "    <tr>\n",
       "      <th>2</th>\n",
       "      <td>김민재</td>\n",
       "      <td>290</td>\n",
       "      <td>22</td>\n",
       "      <td>19</td>\n",
       "      <td>190</td>\n",
       "      <td>88</td>\n",
       "      <td>0</td>\n",
       "      <td>0</td>\n",
       "    </tr>\n",
       "    <tr>\n",
       "      <th>3</th>\n",
       "      <td>이청용</td>\n",
       "      <td>265</td>\n",
       "      <td>30</td>\n",
       "      <td>89</td>\n",
       "      <td>180</td>\n",
       "      <td>70</td>\n",
       "      <td>0</td>\n",
       "      <td>0</td>\n",
       "    </tr>\n",
       "    <tr>\n",
       "      <th>4</th>\n",
       "      <td>손흥민</td>\n",
       "      <td>260</td>\n",
       "      <td>26</td>\n",
       "      <td>79</td>\n",
       "      <td>183</td>\n",
       "      <td>77</td>\n",
       "      <td>0</td>\n",
       "      <td>0</td>\n",
       "    </tr>\n",
       "    <tr>\n",
       "      <th>5</th>\n",
       "      <td>이재성</td>\n",
       "      <td>275</td>\n",
       "      <td>26</td>\n",
       "      <td>43</td>\n",
       "      <td>180</td>\n",
       "      <td>70</td>\n",
       "      <td>0</td>\n",
       "      <td>0</td>\n",
       "    </tr>\n",
       "    <tr>\n",
       "      <th>6</th>\n",
       "      <td>백승호</td>\n",
       "      <td>280</td>\n",
       "      <td>22</td>\n",
       "      <td>0</td>\n",
       "      <td>180</td>\n",
       "      <td>68</td>\n",
       "      <td>0</td>\n",
       "      <td>0</td>\n",
       "    </tr>\n",
       "    <tr>\n",
       "      <th>7</th>\n",
       "      <td>이강인</td>\n",
       "      <td>270</td>\n",
       "      <td>18</td>\n",
       "      <td>0</td>\n",
       "      <td>173</td>\n",
       "      <td>63</td>\n",
       "      <td>0</td>\n",
       "      <td>0</td>\n",
       "    </tr>\n",
       "    <tr>\n",
       "      <th>8</th>\n",
       "      <td>이승우</td>\n",
       "      <td>260</td>\n",
       "      <td>21</td>\n",
       "      <td>10</td>\n",
       "      <td>170</td>\n",
       "      <td>63</td>\n",
       "      <td>0</td>\n",
       "      <td>0</td>\n",
       "    </tr>\n",
       "    <tr>\n",
       "      <th>9</th>\n",
       "      <td>황의조</td>\n",
       "      <td>275</td>\n",
       "      <td>26</td>\n",
       "      <td>25</td>\n",
       "      <td>184</td>\n",
       "      <td>73</td>\n",
       "      <td>0</td>\n",
       "      <td>0</td>\n",
       "    </tr>\n",
       "  </tbody>\n",
       "</table>\n",
       "</div>"
      ],
      "text/plain": [
       "    이름  적합사이즈  나이  출장수    키  몸무게  포스터_사람 수  포스터_사람 크기\n",
       "0  조현우    275  27   12  189   75         0          0\n",
       "1  김영권    285  29   69  186   81         0          0\n",
       "2  김민재    290  22   19  190   88         0          0\n",
       "3  이청용    265  30   89  180   70         0          0\n",
       "4  손흥민    260  26   79  183   77         0          0\n",
       "5  이재성    275  26   43  180   70         0          0\n",
       "6  백승호    280  22    0  180   68         0          0\n",
       "7  이강인    270  18    0  173   63         0          0\n",
       "8  이승우    260  21   10  170   63         0          0\n",
       "9  황의조    275  26   25  184   73         0          0"
      ]
     },
     "execution_count": 3,
     "metadata": {},
     "output_type": "execute_result"
    }
   ],
   "source": [
    "#포스터 관련 데이터 추가 열\n",
    "df[\"포스터_사람 수\"] = 0   #0으로 초기화\n",
    "df[\"포스터_사람 크기\"] = 0   #0으로 초기화\n",
    "df"
   ]
  },
  {
   "cell_type": "code",
   "execution_count": 33,
   "metadata": {},
   "outputs": [
    {
     "name": "stdout",
     "output_type": "stream",
     "text": [
      "Face Count : 2\n",
      "96 342 34 34\n",
      "309 398 63 63\n",
      "Face Count : 1\n",
      "227 105 323 323\n",
      "Face Count : 4\n",
      "123 247 38 38\n",
      "334 249 62 62\n",
      "244 213 62 62\n",
      "209 358 66 66\n"
     ]
    }
   ],
   "source": [
    "#얼굴 인식용 xml 파일\n",
    "faceCascade = cv2.CascadeClassifier('haarcascades/haarcascade_frontalface_default.xml')\n",
    "\n",
    "for i in range(1,4):\n",
    "    img_num = '00'+str(i)+'.jpg'\n",
    "    image = cv2.imread('TestImage/'+img_num) #얼굴을 찾을 이미지 불러오기\n",
    "    gray = cv2.cvtColor(image, cv2.COLOR_BGR2GRAY) #흑백처리\n",
    "    faces = faceCascade.detectMultiScale(gray,scaleFactor=1.032,minNeighbors=8,minSize=(30, 30) ) #얼굴찾기\n",
    "\n",
    "    print (\"Face Count : {0}\".format(len(faces))) #찾은 사람 수 출력\n",
    "    \n",
    "    size = \"\"\n",
    "    #이미지에 찾은 얼굴 위 사각형 출력하기\n",
    "    for (x, y, w, h) in faces:\n",
    "        cv2.rectangle(image, (x, y), (x+w, y+h), (0, 255, 0), 2)\n",
    "        size = size + \",\" + str(x)+'*'+str(y) #여러명의 사이즈 합치기\n",
    "        print(x, y , w, h)\n",
    "\n",
    "    size = size[1:] #앞의 콤마 제거\n",
    "    \n",
    "    #사람수가 0명이면 사이즈도 0으로 기재\n",
    "    if(len(faces) == 0):\n",
    "        size = str(0)\n",
    "        \n",
    "    df.loc[i-1,[\"포스터_사람 수\"]] = len(faces)\n",
    "    df.loc[i-1,[\"포스터_사람 크기\"]] = size\n",
    "\n",
    "    #화면에 출력해주기\n",
    "    cv2.imshow(\"Face\", image) #테스트용으로 주석처리\n",
    "    cv2.waitKey(0) \n",
    "    cv2.destroyAllWindows() \n",
    "    cv2.waitKey(1)"
   ]
  },
  {
   "cell_type": "code",
   "execution_count": 10,
   "metadata": {},
   "outputs": [
    {
     "data": {
      "text/html": [
       "<div>\n",
       "<style scoped>\n",
       "    .dataframe tbody tr th:only-of-type {\n",
       "        vertical-align: middle;\n",
       "    }\n",
       "\n",
       "    .dataframe tbody tr th {\n",
       "        vertical-align: top;\n",
       "    }\n",
       "\n",
       "    .dataframe thead th {\n",
       "        text-align: right;\n",
       "    }\n",
       "</style>\n",
       "<table border=\"1\" class=\"dataframe\">\n",
       "  <thead>\n",
       "    <tr style=\"text-align: right;\">\n",
       "      <th></th>\n",
       "      <th>이름</th>\n",
       "      <th>적합사이즈</th>\n",
       "      <th>나이</th>\n",
       "      <th>출장수</th>\n",
       "      <th>키</th>\n",
       "      <th>몸무게</th>\n",
       "      <th>포스터_사람 수</th>\n",
       "      <th>포스터_사람 크기</th>\n",
       "    </tr>\n",
       "  </thead>\n",
       "  <tbody>\n",
       "    <tr>\n",
       "      <th>0</th>\n",
       "      <td>조현우</td>\n",
       "      <td>275</td>\n",
       "      <td>27</td>\n",
       "      <td>12</td>\n",
       "      <td>189</td>\n",
       "      <td>75</td>\n",
       "      <td>26</td>\n",
       "      <td>1888*2158,1846*1452,728*2231,867*2310,1836*163...</td>\n",
       "    </tr>\n",
       "    <tr>\n",
       "      <th>1</th>\n",
       "      <td>김영권</td>\n",
       "      <td>285</td>\n",
       "      <td>29</td>\n",
       "      <td>69</td>\n",
       "      <td>186</td>\n",
       "      <td>81</td>\n",
       "      <td>5</td>\n",
       "      <td>837*47,1222*2140,1562*2330,722*339,598*1941</td>\n",
       "    </tr>\n",
       "    <tr>\n",
       "      <th>2</th>\n",
       "      <td>김민재</td>\n",
       "      <td>290</td>\n",
       "      <td>22</td>\n",
       "      <td>19</td>\n",
       "      <td>190</td>\n",
       "      <td>88</td>\n",
       "      <td>9</td>\n",
       "      <td>1339*2086,393*800,797*706,1073*804,1741*1862,1...</td>\n",
       "    </tr>\n",
       "    <tr>\n",
       "      <th>3</th>\n",
       "      <td>이청용</td>\n",
       "      <td>265</td>\n",
       "      <td>30</td>\n",
       "      <td>89</td>\n",
       "      <td>180</td>\n",
       "      <td>70</td>\n",
       "      <td>3</td>\n",
       "      <td>251*193,885*116,300*964</td>\n",
       "    </tr>\n",
       "    <tr>\n",
       "      <th>4</th>\n",
       "      <td>손흥민</td>\n",
       "      <td>260</td>\n",
       "      <td>26</td>\n",
       "      <td>79</td>\n",
       "      <td>183</td>\n",
       "      <td>77</td>\n",
       "      <td>11</td>\n",
       "      <td>37*1116,1074*1037,125*1120,577*747,684*1235,55...</td>\n",
       "    </tr>\n",
       "    <tr>\n",
       "      <th>5</th>\n",
       "      <td>이재성</td>\n",
       "      <td>275</td>\n",
       "      <td>26</td>\n",
       "      <td>43</td>\n",
       "      <td>180</td>\n",
       "      <td>70</td>\n",
       "      <td>0</td>\n",
       "      <td>0</td>\n",
       "    </tr>\n",
       "    <tr>\n",
       "      <th>6</th>\n",
       "      <td>백승호</td>\n",
       "      <td>280</td>\n",
       "      <td>22</td>\n",
       "      <td>0</td>\n",
       "      <td>180</td>\n",
       "      <td>68</td>\n",
       "      <td>0</td>\n",
       "      <td>0</td>\n",
       "    </tr>\n",
       "    <tr>\n",
       "      <th>7</th>\n",
       "      <td>이강인</td>\n",
       "      <td>270</td>\n",
       "      <td>18</td>\n",
       "      <td>0</td>\n",
       "      <td>173</td>\n",
       "      <td>63</td>\n",
       "      <td>0</td>\n",
       "      <td>0</td>\n",
       "    </tr>\n",
       "    <tr>\n",
       "      <th>8</th>\n",
       "      <td>이승우</td>\n",
       "      <td>260</td>\n",
       "      <td>21</td>\n",
       "      <td>10</td>\n",
       "      <td>170</td>\n",
       "      <td>63</td>\n",
       "      <td>0</td>\n",
       "      <td>0</td>\n",
       "    </tr>\n",
       "    <tr>\n",
       "      <th>9</th>\n",
       "      <td>황의조</td>\n",
       "      <td>275</td>\n",
       "      <td>26</td>\n",
       "      <td>25</td>\n",
       "      <td>184</td>\n",
       "      <td>73</td>\n",
       "      <td>0</td>\n",
       "      <td>0</td>\n",
       "    </tr>\n",
       "  </tbody>\n",
       "</table>\n",
       "</div>"
      ],
      "text/plain": [
       "    이름  적합사이즈  나이  출장수    키  몸무게  포스터_사람 수  \\\n",
       "0  조현우    275  27   12  189   75        26   \n",
       "1  김영권    285  29   69  186   81         5   \n",
       "2  김민재    290  22   19  190   88         9   \n",
       "3  이청용    265  30   89  180   70         3   \n",
       "4  손흥민    260  26   79  183   77        11   \n",
       "5  이재성    275  26   43  180   70         0   \n",
       "6  백승호    280  22    0  180   68         0   \n",
       "7  이강인    270  18    0  173   63         0   \n",
       "8  이승우    260  21   10  170   63         0   \n",
       "9  황의조    275  26   25  184   73         0   \n",
       "\n",
       "                                           포스터_사람 크기  \n",
       "0  1888*2158,1846*1452,728*2231,867*2310,1836*163...  \n",
       "1        837*47,1222*2140,1562*2330,722*339,598*1941  \n",
       "2  1339*2086,393*800,797*706,1073*804,1741*1862,1...  \n",
       "3                            251*193,885*116,300*964  \n",
       "4  37*1116,1074*1037,125*1120,577*747,684*1235,55...  \n",
       "5                                                  0  \n",
       "6                                                  0  \n",
       "7                                                  0  \n",
       "8                                                  0  \n",
       "9                                                  0  "
      ]
     },
     "execution_count": 10,
     "metadata": {},
     "output_type": "execute_result"
    }
   ],
   "source": [
    "df"
   ]
  },
  {
   "cell_type": "code",
   "execution_count": 35,
   "metadata": {
    "scrolled": true
   },
   "outputs": [
    {
     "name": "stdout",
     "output_type": "stream",
     "text": [
      "Face Count : 4\n",
      "43 40 40 40\n",
      "4 108 43 43\n",
      "132 132 47 47\n",
      "73 67 55 55\n",
      "Face Count : 1\n",
      "114 77 55 55\n",
      "Face Count : 0\n",
      "Face Count : 0\n",
      "Face Count : 0\n",
      "Face Count : 1\n",
      "69 5 56 56\n",
      "Face Count : 1\n",
      "48 51 94 94\n",
      "Face Count : 1\n",
      "76 27 61 61\n",
      "Face Count : 0\n"
     ]
    }
   ],
   "source": [
    "#얼굴 인식용 xml 파일\n",
    "faceCascade = cv2.CascadeClassifier('haarcascades/haarcascade_frontalface_default.xml')\n",
    "\n",
    "for i in range(1,10):\n",
    "    img_num = str(i)+'.png'\n",
    "    image = cv2.imread('TestImage/'+img_num) #얼굴을 찾을 이미지 불러오기\n",
    "    gray = cv2.cvtColor(image, cv2.COLOR_BGR2GRAY) #흑백처리\n",
    "    faces = faceCascade.detectMultiScale(gray,scaleFactor=1.032,minNeighbors=8,minSize=(30, 30) ) #얼굴찾기\n",
    "\n",
    "    print (\"Face Count : {0}\".format(len(faces))) #찾은 사람 수 출력\n",
    "    \n",
    "    size = \"\"\n",
    "    #이미지에 찾은 얼굴 위 사각형 출력하기\n",
    "    for (x, y, w, h) in faces:\n",
    "        cv2.rectangle(image, (x, y), (x+w, y+h), (0, 255, 0), 2)\n",
    "        size = size + \",\" + str(x)+'*'+str(y) #여러명의 사이즈 합치기\n",
    "        print(x, y , w, h)\n",
    "\n",
    "    size = size[1:] #앞의 콤마 제거\n",
    "    \n",
    "    #사람수가 0명이면 사이즈도 0으로 기재\n",
    "    if(len(faces) == 0):\n",
    "        size = str(0)\n",
    "        \n",
    "    df.loc[i-1,[\"포스터_사람 수\"]] = len(faces)\n",
    "    df.loc[i-1,[\"포스터_사람 크기\"]] = size\n",
    "\n",
    "    #화면에 출력해주기\n",
    "    cv2.imshow(\"Face\", image) #테스트용으로 주석처리\n",
    "    cv2.waitKey(0) \n",
    "    cv2.destroyAllWindows() \n",
    "    cv2.waitKey(1)"
   ]
  },
  {
   "cell_type": "markdown",
   "metadata": {},
   "source": [
    "## 3) 글씨 추출하기"
   ]
  },
  {
   "cell_type": "code",
   "execution_count": 12,
   "metadata": {},
   "outputs": [
    {
     "data": {
      "text/plain": [
       "-1"
      ]
     },
     "execution_count": 12,
     "metadata": {},
     "output_type": "execute_result"
    }
   ],
   "source": [
    "import cv2\n",
    "import numpy as np\n",
    "large = cv2.imread('image/20030371.jpg')\n",
    "rgb = cv2.pyrDown(large)\n",
    "small = cv2.cvtColor(rgb, cv2.COLOR_BGR2GRAY)\n",
    "kernel = cv2.getStructuringElement(cv2.MORPH_ELLIPSE, (3, 3))\n",
    "grad = cv2.morphologyEx(small, cv2.MORPH_GRADIENT, kernel)\n",
    "_, bw = cv2.threshold(grad, 0.0, 255.0, cv2.THRESH_BINARY | cv2.THRESH_OTSU)\n",
    "kernel = cv2.getStructuringElement(cv2.MORPH_RECT, (9, 1))\n",
    "connected = cv2.morphologyEx(bw, cv2.MORPH_CLOSE, kernel)\n",
    "# using RETR_EXTERNAL instead of RETR_CCOMP\n",
    "contours, hierarchy = cv2.findContours(connected.copy(), cv2.RETR_EXTERNAL, cv2.CHAIN_APPROX_NONE)\n",
    "mask = np.zeros(bw.shape, dtype=np.uint8)\n",
    "for idx in range(len(contours)):\n",
    "    x, y, w, h = cv2.boundingRect(contours[idx])\n",
    "    mask[y:y+h, x:x+w] = 0\n",
    "    cv2.drawContours(mask, contours, idx, (255, 255, 255), -1)\n",
    "    r = float(cv2.countNonZero(mask[y:y+h, x:x+w])) / (w * h)\n",
    "    if r > 0.45 and w > 8 and h > 8:\n",
    "        cv2.rectangle(rgb, (x, y), (x+w-1, y+h-1), (0, 255, 0), 2)\n",
    "# show image with contours rect\n",
    "cv2.imshow('rects', rgb)\n",
    "cv2.waitKey()"
   ]
  },
  {
   "cell_type": "markdown",
   "metadata": {},
   "source": [
    "## 4) 색상 추출하기\n",
    "k-means clustering algorithm 이용"
   ]
  },
  {
   "cell_type": "code",
   "execution_count": 13,
   "metadata": {},
   "outputs": [],
   "source": [
    "import numpy as np\n",
    "import cv2\n",
    "from sklearn.cluster import KMeans\n",
    "import matplotlib.pyplot as plt"
   ]
  },
  {
   "cell_type": "code",
   "execution_count": 38,
   "metadata": {},
   "outputs": [],
   "source": [
    "image = cv2.imread(\"image/20050045.jpg\")\n",
    "# opencv로 이미지를 읽어들이면 RGB순서가 아닌 BGR값으로 리턴\n",
    "image = cv2.cvtColor(image, cv2.COLOR_BGR2RGB)"
   ]
  },
  {
   "cell_type": "code",
   "execution_count": 39,
   "metadata": {},
   "outputs": [
    {
     "data": {
      "text/plain": [
       "<matplotlib.image.AxesImage at 0x2662a7790b8>"
      ]
     },
     "execution_count": 39,
     "metadata": {},
     "output_type": "execute_result"
    },
    {
     "data": {
      "image/png": "[encoded data removed]",
      "text/plain": [
       "<Figure size 432x288 with 1 Axes>"
      ]
     },
     "metadata": {
      "needs_background": "light"
     },
     "output_type": "display_data"
    }
   ],
   "source": [
    "plt.figure()\n",
    "plt.axis(\"off\")\n",
    "plt.imshow(image)"
   ]
  },
  {
   "cell_type": "code",
   "execution_count": 40,
   "metadata": {
    "scrolled": true
   },
   "outputs": [
    {
     "name": "stdout",
     "output_type": "stream",
     "text": [
      "(861, 600, 3)\n"
     ]
    }
   ],
   "source": [
    "print(image.shape)"
   ]
  },
  {
   "cell_type": "code",
   "execution_count": 41,
   "metadata": {},
   "outputs": [
    {
     "name": "stdout",
     "output_type": "stream",
     "text": [
      "(516600, 3)\n"
     ]
    }
   ],
   "source": [
    "image = image.reshape((image.shape[0] * image.shape[1], 3)) # height, width 통합\n",
    "print(image.shape)"
   ]
  },
  {
   "cell_type": "code",
   "execution_count": 42,
   "metadata": {},
   "outputs": [
    {
     "data": {
      "text/plain": [
       "KMeans(n_clusters=5)"
      ]
     },
     "execution_count": 42,
     "metadata": {},
     "output_type": "execute_result"
    }
   ],
   "source": [
    "k = 5 # 5개로 나누겠습니다\n",
    "clt = KMeans(n_clusters = k)\n",
    "clt.fit(image)"
   ]
  },
  {
   "cell_type": "code",
   "execution_count": 43,
   "metadata": {},
   "outputs": [
    {
     "name": "stdout",
     "output_type": "stream",
     "text": [
      "[165.67777    105.15771713  69.66363424]\n",
      "[195.2476311    4.39675831  50.04872585]\n",
      "[56.09431913 27.16675021 27.89909774]\n",
      "[241.25253537 220.9392038  192.2329906 ]\n",
      "[215.49852445 166.94349046 110.32283521]\n"
     ]
    }
   ],
   "source": [
    "for center in clt.cluster_centers_:\n",
    "    print(center)"
   ]
  },
  {
   "cell_type": "code",
   "execution_count": 44,
   "metadata": {},
   "outputs": [
    {
     "name": "stdout",
     "output_type": "stream",
     "text": [
      "[0.12411537 0.32746225 0.11554201 0.11006388 0.32281649]\n"
     ]
    }
   ],
   "source": [
    "def centroid_histogram(clt):\n",
    "    # grab the number of different clusters and create a histogram\n",
    "    # based on the number of pixels assigned to each cluster\n",
    "    numLabels = np.arange(0, len(np.unique(clt.labels_)) + 1)\n",
    "    (hist, _) = np.histogram(clt.labels_, bins=numLabels)\n",
    "\n",
    "    # normalize the histogram, such that it sums to one\n",
    "    hist = hist.astype(\"float\")\n",
    "    hist /= hist.sum()\n",
    "\n",
    "    # return the histogram\n",
    "    return hist\n",
    "\n",
    "\n",
    "hist = centroid_histogram(clt)\n",
    "print(hist)"
   ]
  },
  {
   "cell_type": "code",
   "execution_count": 45,
   "metadata": {},
   "outputs": [
    {
     "data": {
      "image/png": "[encoded data removed]",
      "text/plain": [
       "<Figure size 432x288 with 1 Axes>"
      ]
     },
     "metadata": {
      "needs_background": "light"
     },
     "output_type": "display_data"
    }
   ],
   "source": [
    "def plot_colors(hist, centroids):\n",
    "    # initialize the bar chart representing the relative frequency\n",
    "    # of each of the colors\n",
    "    bar = np.zeros((50, 300, 3), dtype=\"uint8\")\n",
    "    startX = 0\n",
    "\n",
    "    # loop over the percentage of each cluster and the color of\n",
    "    # each cluster\n",
    "    for (percent, color) in zip(hist, centroids):\n",
    "        # plot the relative percentage of each cluster\n",
    "        endX = startX + (percent * 300)\n",
    "        cv2.rectangle(bar, (int(startX), 0), (int(endX), 50),\n",
    "                      color.astype(\"uint8\").tolist(), -1)\n",
    "        startX = endX\n",
    "\n",
    "    # return the bar chart\n",
    "    return bar\n",
    "\n",
    "\n",
    "bar = plot_colors(hist, clt.cluster_centers_)\n",
    "\n",
    "\n",
    "# show our color bart\n",
    "plt.figure()\n",
    "plt.axis(\"off\")\n",
    "plt.imshow(bar)\n",
    "plt.show()"
   ]
  },
  {
   "cell_type": "code",
   "execution_count": null,
   "metadata": {},
   "outputs": [],
   "source": [
    "var_R = ( R / 255 )\n",
    "var_G = ( G / 255 )\n",
    "var_B = ( B / 255 )\n",
    "\n",
    "var_Min = min( var_R, var_G, var_B )    //Min. value of RGB\n",
    "var_Max = max( var_R, var_G, var_B )    //Max. value of RGB\n",
    "del_Max = var_Max - var_Min             //Delta RGB value\n",
    "\n",
    "V = var_Max\n",
    "\n",
    "if ( del_Max == 0 )                     //This is a gray, no chroma...\n",
    "{\n",
    "    H = 0\n",
    "    S = 0\n",
    "}\n",
    "else                                    //Chromatic data...\n",
    "{\n",
    "   S = del_Max / var_Max\n",
    "\n",
    "   del_R = ( ( ( var_Max - var_R ) / 6 ) + ( del_Max / 2 ) ) / del_Max\n",
    "   del_G = ( ( ( var_Max - var_G ) / 6 ) + ( del_Max / 2 ) ) / del_Max\n",
    "   del_B = ( ( ( var_Max - var_B ) / 6 ) + ( del_Max / 2 ) ) / del_Max\n",
    "\n",
    "   if      ( var_R == var_Max ) H = del_B - del_G\n",
    "   else if ( var_G == var_Max ) H = ( 1 / 3 ) + del_R - del_B\n",
    "   else if ( var_B == var_Max ) H = ( 2 / 3 ) + del_G - del_R\n",
    "\n",
    "    if ( H < 0 ) H += 1\n",
    "    if ( H > 1 ) H -= 1\n",
    "}"
   ]
  }
 ],
 "metadata": {
  "kernelspec": {
   "display_name": "Python 3",
   "language": "python",
   "name": "python3"
  },
  "language_info": {
   "codemirror_mode": {
    "name": "ipython",
    "version": 3
   },
   "file_extension": ".py",
   "mimetype": "text/x-python",
   "name": "python",
   "nbconvert_exporter": "python",
   "pygments_lexer": "ipython3",
   "version": "3.7.1"
  }
 },
 "nbformat": 4,
 "nbformat_minor": 4
}
